{
 "cells": [
  {
   "attachments": {},
   "cell_type": "markdown",
   "metadata": {},
   "source": [
    "# this is my first attempt at a cpm\n",
    "article here: https://mlabonne.github.io/blog/posts/2022-03-02-linear_programming.html\n",
    "\n",
    "given the following:\n",
    "\n",
    "Imagine you are a strategist recruiting an army. You have:\n",
    "\n",
    "Three resources: 🌾food, 🪵wood, and 🪙gold\n",
    "Three units: 🗡️swordsmen, 🏹bowmen, and 🐎horsemen.\n",
    "Horsemen are stronger than bowmen, who are in turn stronger than swordsmen. The following table provides the cost and power of each unit:\n",
    "\n",
    "|Unit\t|🌾Food|\t🪵Wood|\t🪙Gold|\t💪Power|\n",
    "|---|---|---|---|---|\n",
    "|🗡️Swordsman|\t60|\t20|\t0|\t70|\n",
    "|🏹Bowman|\t80|\t10|\t40|\t95|\n",
    "|🐎Horseman|\t140|\t0|\t100|\t230|\n",
    "\n",
    "Now we have 1200 🌾food, 800 🪵wood, and 600 🪙gold. How should we maximize the power of our army considering these resources?"
   ]
  },
  {
   "cell_type": "code",
   "execution_count": 1,
   "metadata": {},
   "outputs": [],
   "source": [
    "from ortools.linear_solver import pywraplp\n",
    "\n",
    "solver = pywraplp.Solver('maximize army power', pywraplp.Solver.GLOP_LINEAR_PROGRAMMING)"
   ]
  },
  {
   "attachments": {},
   "cell_type": "markdown",
   "metadata": {},
   "source": [
    "define variables like so"
   ]
  },
  {
   "cell_type": "code",
   "execution_count": 4,
   "metadata": {},
   "outputs": [],
   "source": [
    "swordsmen = solver.IntVar(0, solver.infinity(), 'swordsmen')\n",
    "bowmen = solver.IntVar(0, solver.infinity(), 'bowmen')\n",
    "horsemen = solver.IntVar(0, solver.infinity(), 'horsemen')"
   ]
  },
  {
   "attachments": {},
   "cell_type": "markdown",
   "metadata": {},
   "source": [
    "add constraints for each resource like so"
   ]
  },
  {
   "cell_type": "code",
   "execution_count": 6,
   "metadata": {},
   "outputs": [
    {
     "data": {
      "text/plain": [
       "<ortools.linear_solver.pywraplp.Constraint; proxy of <Swig Object of type 'operations_research::MPConstraint *' at 0x000001A7A5FDB000> >"
      ]
     },
     "execution_count": 6,
     "metadata": {},
     "output_type": "execute_result"
    }
   ],
   "source": [
    "solver.Add(swordsmen*60 + bowmen*80 + horsemen*140 <= 1200) # food\n",
    "solver.Add(swordsmen*20 + bowmen*10 <= 800) # wood\n",
    "solver.Add(bowmen*40 + horsemen*100 <= 600) # gold"
   ]
  },
  {
   "attachments": {},
   "cell_type": "markdown",
   "metadata": {},
   "source": [
    "now we need the objective function. in this case, we are maximizing power"
   ]
  },
  {
   "cell_type": "code",
   "execution_count": 9,
   "metadata": {},
   "outputs": [],
   "source": [
    "solver.Maximize(swordsmen*70 + bowmen*95 + horsemen*230)"
   ]
  },
  {
   "attachments": {},
   "cell_type": "markdown",
   "metadata": {},
   "source": [
    "finally, we'll optimize like so"
   ]
  },
  {
   "cell_type": "code",
   "execution_count": 13,
   "metadata": {},
   "outputs": [
    {
     "name": "stdout",
     "output_type": "stream",
     "text": [
      "================= Solution =================\n",
      "solved in 2211671.00 miliseconds in 0 iterations\n",
      "\n",
      "optimal power = 1800.0 power\n",
      "army:\n",
      " - swordsmen = 6.0000000000000036\n",
      " - bowmen = 0.0\n",
      " - horsemen = 5.999999999999999\n"
     ]
    }
   ],
   "source": [
    "status = solver.Solve()\n",
    "\n",
    "if status == pywraplp.Solver.OPTIMAL:\n",
    "    print('================= Solution =================')\n",
    "    print(f'solved in {solver.wall_time():.2f} miliseconds in {solver.iterations()} iterations')\n",
    "    print()\n",
    "    print(f'optimal power = {solver.Objective().Value()} power')\n",
    "    print('army:')\n",
    "    print(f' - swordsmen = {swordsmen.solution_value()}')\n",
    "    print(f' - bowmen = {bowmen.solution_value()}')\n",
    "    print(f' - horsemen = {horsemen.solution_value()}')\n",
    "else:\n",
    "    print('the solver could not find an optimal solution')"
   ]
  }
 ],
 "metadata": {
  "kernelspec": {
   "display_name": "CPM",
   "language": "python",
   "name": "python3"
  },
  "language_info": {
   "codemirror_mode": {
    "name": "ipython",
    "version": 3
   },
   "file_extension": ".py",
   "mimetype": "text/x-python",
   "name": "python",
   "nbconvert_exporter": "python",
   "pygments_lexer": "ipython3",
   "version": "3.11.3"
  },
  "orig_nbformat": 4
 },
 "nbformat": 4,
 "nbformat_minor": 2
}
