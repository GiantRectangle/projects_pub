{
 "cells": [
  {
   "attachments": {},
   "cell_type": "markdown",
   "metadata": {},
   "source": [
    "# first attempt at solving rooms with cpm\n",
    "\n",
    "given the following:\n",
    "\n",
    "Imagine you are designing a hospital patient floor. here's the rules:\n",
    "\n",
    "the floorplate size will be 860 sqft per bed\n",
    "\n",
    "the basis of design is from a hospital patient floor with 24 beds with the floorplate as 20640 sqft\n",
    "\n",
    "there's six room types: patient_room, ada_room, supply, soiled, norish, and alcove\n",
    "\n",
    "from the original design, we derive the ratio of each room type to beds, as well as a default size for each room type. it looks like this:\n",
    "\n",
    "|Name of room|\t# / Bed|\tDefault SQFT/Room|\n",
    "|---|---|---|\n",
    "|patient_room|\t0.916666667|\t792.9969057|\n",
    "|ada_room|\t0.083333333|\t928.447425|\n",
    "|supply|\t0.041666667|\t472.7116285|\n",
    "|soiled|\t0.041666667|\t396.9733013|\n",
    "|nourish|\t0.041666667|\t237.6616475|\n",
    "|alcove|\t0.125|\t76.6088827|\n",
    "\n",
    "now we need to fit these rooms to a patient floor with 40 beds. we say the number of each room type will be according to the ratio, and the sqft of the floorplate will be 34400. \n",
    "\n",
    "however, some of the room sizes will have to be adjusted. so we say the numbers of each type of room in our new taget patient floor, and the constarints on the size changes are as follows:\n",
    "\n",
    "|Name of room|\tnumber|\tmin sqft|\tdefault sqft|\tmax sqft|\n",
    "|---|---|---|---|---|\n",
    "|patient_room|\t37\t|634|\t793|\t952|\n",
    "|ada_room|\t3|\t742|\t928|\t1114|\n",
    "|supply|\t2|\t378|\t473|\t568|\n",
    "|soiled|\t2|\t318|\t397|\t476|\n",
    "|nourish|\t2|\t190|\t238|\t286|\n",
    "|alcove|\t5|\t62|\t77|\t92|\n",
    "\n",
    "\n"
   ]
  },
  {
   "cell_type": "code",
   "execution_count": 1,
   "metadata": {},
   "outputs": [],
   "source": [
    "# !pip install ortools\n",
    "from ortools.linear_solver import pywraplp\n",
    "\n",
    "solver = pywraplp.Solver('optimize rooms', pywraplp.Solver.GLOP_LINEAR_PROGRAMMING)"
   ]
  },
  {
   "attachments": {},
   "cell_type": "markdown",
   "metadata": {},
   "source": [
    "here's our constants"
   ]
  },
  {
   "cell_type": "code",
   "execution_count": 2,
   "metadata": {},
   "outputs": [],
   "source": [
    "n_patient_room = 37\n",
    "n_ada_room = 3\n",
    "n_supply = 2\n",
    "n_soiled = 2\n",
    "n_nourish = 2\n",
    "n_alcove = 2\n",
    "d_patient_room = 793\n",
    "d_ada_room = 928\n",
    "d_supply = 473\n",
    "d_soiled = 397\n",
    "d_nourish = 238\n",
    "d_alcove = 77"
   ]
  },
  {
   "attachments": {},
   "cell_type": "markdown",
   "metadata": {},
   "source": [
    "and here's the variables"
   ]
  },
  {
   "cell_type": "code",
   "execution_count": 3,
   "metadata": {},
   "outputs": [],
   "source": [
    "s_patient_room = solver.IntVar(753, 833, 'patient_room')\n",
    "s_ada_room = solver.IntVar(882, 974, 'ada_room')\n",
    "s_supply = solver.IntVar(449, 497, 'supply')\n",
    "s_soiled = solver.IntVar(377, 417, 'soiled')\n",
    "s_nourish = solver.IntVar(226, 250, 'nourish')\n",
    "s_alcove = solver.IntVar(73, 81, 'alcove')"
   ]
  },
  {
   "attachments": {},
   "cell_type": "markdown",
   "metadata": {},
   "source": [
    "add constraints like so"
   ]
  },
  {
   "cell_type": "code",
   "execution_count": 4,
   "metadata": {},
   "outputs": [
    {
     "data": {
      "text/plain": [
       "<ortools.linear_solver.pywraplp.Constraint; proxy of <Swig Object of type 'operations_research::MPConstraint *' at 0x000001D03AFD3E40> >"
      ]
     },
     "execution_count": 4,
     "metadata": {},
     "output_type": "execute_result"
    }
   ],
   "source": [
    "solver.Add(s_patient_room*n_patient_room + s_ada_room*n_ada_room + s_supply*n_supply + s_soiled*n_soiled + s_nourish*n_nourish + s_alcove*n_alcove <= 34400) # fit to floorplate"
   ]
  },
  {
   "attachments": {},
   "cell_type": "markdown",
   "metadata": {},
   "source": [
    "now we need the objective function. in this case, we are minimizing the product of the [sum of the differences in all room sizes compared to defalt] times [1 + the remainder of the floorplate size minus the sum of all the optimzed room sizes]"
   ]
  },
  {
   "cell_type": "code",
   "execution_count": 5,
   "metadata": {},
   "outputs": [],
   "source": [
    "\n",
    "solver.Minimize(\n",
    "    (abs(1-s_patient_room.solution_value()/d_patient_room)\n",
    "    + abs(1-s_ada_room.solution_value()/d_ada_room)\n",
    "    + abs(1-s_supply.solution_value()/d_supply)\n",
    "    + abs(1-s_soiled.solution_value()/d_soiled)\n",
    "    + abs(1-s_nourish.solution_value()/d_nourish)\n",
    "    + abs(1-s_alcove.solution_value()/d_alcove))\n",
    "    * (1 +(34400 - (s_patient_room*n_patient_room + s_ada_room*n_ada_room + s_supply*n_supply + s_soiled*n_soiled + s_nourish*n_nourish + s_alcove*n_alcove)))\n",
    "    )"
   ]
  },
  {
   "attachments": {},
   "cell_type": "markdown",
   "metadata": {},
   "source": [
    "finally, we'll optimize like so"
   ]
  },
  {
   "cell_type": "code",
   "execution_count": 6,
   "metadata": {},
   "outputs": [
    {
     "name": "stdout",
     "output_type": "stream",
     "text": [
      "================= Solution =================\n",
      "solved in 146525.00 miliseconds in 0 iterations\n",
      "\n",
      "remainder: 0.0 sqft\n",
      "rooms:\n",
      " - 37 patient_rooms at 0.987969053542824 * default size, for 783.4594594594595 sqft each\n",
      " - 3 ada_rooms at 1.0495689655172413 * default size, for 974.0 sqft each\n",
      " - 2 supply at 1.0507399577167018 * default size, for 497.0 sqft each\n",
      " - 2 soiled at 1.0503778337531486 * default size, for 417.0 sqft each\n",
      " - 2 norish at 1.050420168067227 * default size, for 250.0 sqft each\n",
      " - 2 alcove at 1.051948051948052 * default size, for 81.0 sqft each\n"
     ]
    }
   ],
   "source": [
    "status = solver.Solve()\n",
    "\n",
    "if status == pywraplp.Solver.OPTIMAL:\n",
    "    print('================= Solution =================')\n",
    "    print(f'solved in {solver.wall_time():.2f} miliseconds in {solver.iterations()} iterations')\n",
    "    print()\n",
    "    print(f'remainder: {34400 - (s_patient_room.solution_value()*n_patient_room + s_ada_room.solution_value()*n_ada_room + s_supply.solution_value()*n_supply + s_soiled.solution_value()*n_soiled + s_nourish.solution_value()*n_nourish + s_alcove.solution_value()*n_alcove)} sqft')\n",
    "    print('rooms:')\n",
    "    print(f' - {n_patient_room} patient_rooms at {s_patient_room.solution_value()/d_patient_room} * default size, for {s_patient_room.solution_value()} sqft each')\n",
    "    print(f' - {n_ada_room} ada_rooms at {s_ada_room.solution_value()/d_ada_room} * default size, for {s_ada_room.solution_value()} sqft each')\n",
    "    print(f' - {n_supply} supply at {s_supply.solution_value()/d_supply} * default size, for {s_supply.solution_value()} sqft each')\n",
    "    print(f' - {n_soiled} soiled at {s_soiled.solution_value()/d_soiled} * default size, for {s_soiled.solution_value()} sqft each')\n",
    "    print(f' - {n_nourish} norish at {s_nourish.solution_value()/d_nourish} * default size, for {s_nourish.solution_value()} sqft each')\n",
    "    print(f' - {n_alcove} alcove at {s_alcove.solution_value()/d_alcove} * default size, for {s_alcove.solution_value()} sqft each')\n",
    "else:\n",
    "    print('the solver could not find an optimal solution')"
   ]
  }
 ],
 "metadata": {
  "kernelspec": {
   "display_name": "CPM",
   "language": "python",
   "name": "python3"
  },
  "language_info": {
   "codemirror_mode": {
    "name": "ipython",
    "version": 3
   },
   "file_extension": ".py",
   "mimetype": "text/x-python",
   "name": "python",
   "nbconvert_exporter": "python",
   "pygments_lexer": "ipython3",
   "version": "3.11.3"
  },
  "orig_nbformat": 4
 },
 "nbformat": 4,
 "nbformat_minor": 2
}
