{
 "cells": [
  {
   "cell_type": "code",
   "execution_count": 3,
   "metadata": {},
   "outputs": [
    {
     "data": {
      "text/plain": [
       "'|med_surg_w_pat_toilet|\\n|med_surg_ada_w_pat_toilet|\\n|clean_supply|\\n|soiled_holding|\\n|nourish|\\n|meds|\\n|team_st|\\n|public_toilet|\\n|staff_toilet|\\n|conference_room|\\n|office|\\n|phone_room|\\n|staff_lounge|\\n|staff_locker|\\n|workroom|\\n|electrical_room|\\n|eq_storage|\\n|evs|\\n|idf|\\n|waiting|\\n|alcove|\\n|stretcher_alcove\\n|corridor|\\n|mech_shaft|\\n|elevator_car|\\n'"
      ]
     },
     "execution_count": 3,
     "metadata": {},
     "output_type": "execute_result"
    }
   ],
   "source": [
    "rooms = '''|med_surg_w_pat_toilet|\n",
    "|med_surg_ada_w_pat_toilet|\n",
    "|clean_supply|\n",
    "|soiled_holding|\n",
    "|nourish|\n",
    "|meds|\n",
    "|team_st|\n",
    "|public_toilet|\n",
    "|staff_toilet|\n",
    "|conference_room|\n",
    "|office|\n",
    "|phone_room|\n",
    "|staff_lounge|\n",
    "|staff_locker|\n",
    "|workroom|\n",
    "|electrical_room|\n",
    "|eq_storage|\n",
    "|evs|\n",
    "|idf|\n",
    "|waiting|\n",
    "|alcove|\n",
    "|stretcher_alcove\n",
    "|corridor|\n",
    "|mech_shaft|\n",
    "|elevator_car|\n",
    "'''\n",
    "rooms"
   ]
  },
  {
   "cell_type": "code",
   "execution_count": 4,
   "metadata": {},
   "outputs": [
    {
     "data": {
      "text/plain": [
       "['med_surg_w_pat_toilet',\n",
       " 'med_surg_ada_w_pat_toilet',\n",
       " 'clean_supply',\n",
       " 'soiled_holding',\n",
       " 'nourish',\n",
       " 'meds',\n",
       " 'team_st',\n",
       " 'public_toilet',\n",
       " 'staff_toilet',\n",
       " 'conference_room',\n",
       " 'office',\n",
       " 'phone_room',\n",
       " 'staff_lounge',\n",
       " 'staff_locker',\n",
       " 'workroom',\n",
       " 'electrical_room',\n",
       " 'eq_storage',\n",
       " 'evs',\n",
       " 'idf',\n",
       " 'waiting',\n",
       " 'alcove',\n",
       " 'stretcher_alcove',\n",
       " 'corridor',\n",
       " 'mech_shaft',\n",
       " 'elevator_car']"
      ]
     },
     "execution_count": 4,
     "metadata": {},
     "output_type": "execute_result"
    }
   ],
   "source": [
    "rooms = rooms.replace('|', '')\n",
    "rooms = rooms.split()\n",
    "rooms"
   ]
  },
  {
   "cell_type": "code",
   "execution_count": 5,
   "metadata": {},
   "outputs": [
    {
     "name": "stdout",
     "output_type": "stream",
     "text": [
      "r_med_surg_w_pat_toilet = \n",
      "r_med_surg_ada_w_pat_toilet = \n",
      "r_clean_supply = \n",
      "r_soiled_holding = \n",
      "r_nourish = \n",
      "r_meds = \n",
      "r_team_st = \n",
      "r_public_toilet = \n",
      "r_staff_toilet = \n",
      "r_conference_room = \n",
      "r_office = \n",
      "r_phone_room = \n",
      "r_staff_lounge = \n",
      "r_staff_locker = \n",
      "r_workroom = \n",
      "r_electrical_room = \n",
      "r_eq_storage = \n",
      "r_evs = \n",
      "r_idf = \n",
      "r_waiting = \n",
      "r_alcove = \n",
      "r_stretcher_alcove = \n",
      "r_corridor = \n",
      "r_mech_shaft = \n",
      "r_elevator_car = \n"
     ]
    }
   ],
   "source": [
    "r_rooms = ['r_' + n + ' = ' for n in rooms]\n",
    "print(*r_rooms, sep='\\n')"
   ]
  },
  {
   "cell_type": "code",
   "execution_count": 6,
   "metadata": {},
   "outputs": [
    {
     "name": "stdout",
     "output_type": "stream",
     "text": [
      "0.916666667\n",
      "0.083333333\n",
      "0.041666667\n",
      "0.041666667\n",
      "0.041666667\n",
      "0.041666667\n",
      "0.083333333\n",
      "0.041666667\n",
      "0.083333333\n",
      "0.041666667\n",
      "0.041666667\n",
      "0.083333333\n",
      "0.041666667\n",
      "0.041666667\n",
      "0.083333333\n",
      "0.041666667\n",
      "0.041666667\n",
      "0.041666667\n",
      "0.041666667\n",
      "0.041666667\n",
      "0.125\n",
      "0.041666667\n",
      "0\n",
      "0.083333333\n",
      "0.041666667\n"
     ]
    }
   ],
   "source": [
    "ratios = '''\n",
    "0.916666667\n",
    "0.083333333\n",
    "0.041666667\n",
    "0.041666667\n",
    "0.041666667\n",
    "0.041666667\n",
    "0.083333333\n",
    "0.041666667\n",
    "0.083333333\n",
    "0.041666667\n",
    "0.041666667\n",
    "0.083333333\n",
    "0.041666667\n",
    "0.041666667\n",
    "0.083333333\n",
    "0.041666667\n",
    "0.041666667\n",
    "0.041666667\n",
    "0.041666667\n",
    "0.041666667\n",
    "0.125\n",
    "0.041666667\n",
    "0\n",
    "0.083333333\n",
    "0.041666667\n",
    "'''\n",
    "ratios = ratios.split()\n",
    "print(*ratios, sep='\\n')"
   ]
  },
  {
   "cell_type": "code",
   "execution_count": 7,
   "metadata": {},
   "outputs": [
    {
     "name": "stdout",
     "output_type": "stream",
     "text": [
      "r_med_surg_w_pat_toilet = 0.916666667\n",
      "r_med_surg_ada_w_pat_toilet = 0.083333333\n",
      "r_clean_supply = 0.041666667\n",
      "r_soiled_holding = 0.041666667\n",
      "r_nourish = 0.041666667\n",
      "r_meds = 0.041666667\n",
      "r_team_st = 0.083333333\n",
      "r_public_toilet = 0.041666667\n",
      "r_staff_toilet = 0.083333333\n",
      "r_conference_room = 0.041666667\n",
      "r_office = 0.041666667\n",
      "r_phone_room = 0.083333333\n",
      "r_staff_lounge = 0.041666667\n",
      "r_staff_locker = 0.041666667\n",
      "r_workroom = 0.083333333\n",
      "r_electrical_room = 0.041666667\n",
      "r_eq_storage = 0.041666667\n",
      "r_evs = 0.041666667\n",
      "r_idf = 0.041666667\n",
      "r_waiting = 0.041666667\n",
      "r_alcove = 0.125\n",
      "r_stretcher_alcove = 0.041666667\n",
      "r_corridor = 0\n",
      "r_mech_shaft = 0.083333333\n",
      "r_elevator_car = 0.041666667\n"
     ]
    }
   ],
   "source": [
    "rr_rooms = [x[0] + x[1] for x in zip(r_rooms, ratios)]\n",
    "print(*rr_rooms, sep='\\n')"
   ]
  },
  {
   "cell_type": "code",
   "execution_count": 21,
   "metadata": {},
   "outputs": [
    {
     "name": "stdout",
     "output_type": "stream",
     "text": [
      "n_med_surg_w_pat_toilet = round(r_med_surg_w_pat_toilet * beds)\n",
      "n_med_surg_ada_w_pat_toilet = round(r_med_surg_ada_w_pat_toilet * beds)\n",
      "n_clean_supply = round(r_clean_supply * beds)\n",
      "n_soiled_holding = round(r_soiled_holding * beds)\n",
      "n_nourish = round(r_nourish * beds)\n",
      "n_meds = round(r_meds * beds)\n",
      "n_team_st = round(r_team_st * beds)\n",
      "n_public_toilet = round(r_public_toilet * beds)\n",
      "n_staff_toilet = round(r_staff_toilet * beds)\n",
      "n_conference_room = round(r_conference_room * beds)\n",
      "n_office = round(r_office * beds)\n",
      "n_phone_room = round(r_phone_room * beds)\n",
      "n_staff_lounge = round(r_staff_lounge * beds)\n",
      "n_staff_locker = round(r_staff_locker * beds)\n",
      "n_workroom = round(r_workroom * beds)\n",
      "n_electrical_room = round(r_electrical_room * beds)\n",
      "n_eq_storage = round(r_eq_storage * beds)\n",
      "n_evs = round(r_evs * beds)\n",
      "n_idf = round(r_idf * beds)\n",
      "n_waiting = round(r_waiting * beds)\n",
      "n_alcove = round(r_alcove * beds)\n",
      "n_stretcher_alcove = round(r_stretcher_alcove * beds)\n",
      "n_corridor = round(r_corridor * beds)\n",
      "n_mech_shaft = round(r_mech_shaft * beds)\n",
      "n_elevator_car = round(r_elevator_car * beds)\n"
     ]
    }
   ],
   "source": [
    "n_rooms = ['n_' + n + ' = round(r_' + n + ' * beds)' for n in rooms]\n",
    "print(*n_rooms, sep='\\n')"
   ]
  },
  {
   "cell_type": "code",
   "execution_count": 9,
   "metadata": {},
   "outputs": [
    {
     "name": "stdout",
     "output_type": "stream",
     "text": [
      "303.6363636\n",
      "355.5\n",
      "181\n",
      "152\n",
      "91\n",
      "132\n",
      "260.5\n",
      "52\n",
      "53.5\n",
      "215\n",
      "79\n",
      "45\n",
      "196\n",
      "195\n",
      "91\n",
      "141\n",
      "188\n",
      "48\n",
      "119\n",
      "411\n",
      "29.33333333\n",
      "73\n",
      "n/a\n",
      "55\n",
      "76\n"
     ]
    }
   ],
   "source": [
    "sizes = '''303.6363636\n",
    "355.5\n",
    "181\n",
    "152\n",
    "91\n",
    "132\n",
    "260.5\n",
    "52\n",
    "53.5\n",
    "215\n",
    "79\n",
    "45\n",
    "196\n",
    "195\n",
    "91\n",
    "141\n",
    "188\n",
    "48\n",
    "119\n",
    "411\n",
    "29.33333333\n",
    "73\n",
    "n/a\n",
    "55\n",
    "76'''\n",
    "sizes = sizes.split()\n",
    "print(*sizes, sep='\\n')"
   ]
  },
  {
   "cell_type": "code",
   "execution_count": 10,
   "metadata": {},
   "outputs": [
    {
     "name": "stdout",
     "output_type": "stream",
     "text": [
      "d_med_surg_w_pat_toilet = \n",
      "d_med_surg_ada_w_pat_toilet = \n",
      "d_clean_supply = \n",
      "d_soiled_holding = \n",
      "d_nourish = \n",
      "d_meds = \n",
      "d_team_st = \n",
      "d_public_toilet = \n",
      "d_staff_toilet = \n",
      "d_conference_room = \n",
      "d_office = \n",
      "d_phone_room = \n",
      "d_staff_lounge = \n",
      "d_staff_locker = \n",
      "d_workroom = \n",
      "d_electrical_room = \n",
      "d_eq_storage = \n",
      "d_evs = \n",
      "d_idf = \n",
      "d_waiting = \n",
      "d_alcove = \n",
      "d_stretcher_alcove = \n",
      "d_corridor = \n",
      "d_mech_shaft = \n",
      "d_elevator_car = \n"
     ]
    }
   ],
   "source": [
    "d_rooms = ['d_' + d + ' = ' for d in rooms]\n",
    "print(*d_rooms, sep='\\n')"
   ]
  },
  {
   "cell_type": "code",
   "execution_count": 11,
   "metadata": {},
   "outputs": [
    {
     "name": "stdout",
     "output_type": "stream",
     "text": [
      "d_med_surg_w_pat_toilet = 303.6363636\n",
      "d_med_surg_ada_w_pat_toilet = 355.5\n",
      "d_clean_supply = 181\n",
      "d_soiled_holding = 152\n",
      "d_nourish = 91\n",
      "d_meds = 132\n",
      "d_team_st = 260.5\n",
      "d_public_toilet = 52\n",
      "d_staff_toilet = 53.5\n",
      "d_conference_room = 215\n",
      "d_office = 79\n",
      "d_phone_room = 45\n",
      "d_staff_lounge = 196\n",
      "d_staff_locker = 195\n",
      "d_workroom = 91\n",
      "d_electrical_room = 141\n",
      "d_eq_storage = 188\n",
      "d_evs = 48\n",
      "d_idf = 119\n",
      "d_waiting = 411\n",
      "d_alcove = 29.33333333\n",
      "d_stretcher_alcove = 73\n",
      "d_corridor = n/a\n",
      "d_mech_shaft = 55\n",
      "d_elevator_car = 76\n"
     ]
    }
   ],
   "source": [
    "dd_rooms = [x[0] + x[1] for x in zip(d_rooms, sizes)]\n",
    "print(*dd_rooms, sep='\\n')"
   ]
  },
  {
   "cell_type": "code",
   "execution_count": 22,
   "metadata": {},
   "outputs": [
    {
     "name": "stdout",
     "output_type": "stream",
     "text": [
      "s_med_surg_w_pat_toilet= solver.IntVar(lower*d_med_surg_w_pat_toilet, upper*d_med_surg_w_pat_toilet, 'med_surg_w_pat_toilet')\n",
      "s_med_surg_ada_w_pat_toilet= solver.IntVar(lower*d_med_surg_ada_w_pat_toilet, upper*d_med_surg_ada_w_pat_toilet, 'med_surg_ada_w_pat_toilet')\n",
      "s_clean_supply= solver.IntVar(lower*d_clean_supply, upper*d_clean_supply, 'clean_supply')\n",
      "s_soiled_holding= solver.IntVar(lower*d_soiled_holding, upper*d_soiled_holding, 'soiled_holding')\n",
      "s_nourish= solver.IntVar(lower*d_nourish, upper*d_nourish, 'nourish')\n",
      "s_meds= solver.IntVar(lower*d_meds, upper*d_meds, 'meds')\n",
      "s_team_st= solver.IntVar(lower*d_team_st, upper*d_team_st, 'team_st')\n",
      "s_public_toilet= solver.IntVar(lower*d_public_toilet, upper*d_public_toilet, 'public_toilet')\n",
      "s_staff_toilet= solver.IntVar(lower*d_staff_toilet, upper*d_staff_toilet, 'staff_toilet')\n",
      "s_conference_room= solver.IntVar(lower*d_conference_room, upper*d_conference_room, 'conference_room')\n",
      "s_office= solver.IntVar(lower*d_office, upper*d_office, 'office')\n",
      "s_phone_room= solver.IntVar(lower*d_phone_room, upper*d_phone_room, 'phone_room')\n",
      "s_staff_lounge= solver.IntVar(lower*d_staff_lounge, upper*d_staff_lounge, 'staff_lounge')\n",
      "s_staff_locker= solver.IntVar(lower*d_staff_locker, upper*d_staff_locker, 'staff_locker')\n",
      "s_workroom= solver.IntVar(lower*d_workroom, upper*d_workroom, 'workroom')\n",
      "s_electrical_room= solver.IntVar(lower*d_electrical_room, upper*d_electrical_room, 'electrical_room')\n",
      "s_eq_storage= solver.IntVar(lower*d_eq_storage, upper*d_eq_storage, 'eq_storage')\n",
      "s_evs= solver.IntVar(lower*d_evs, upper*d_evs, 'evs')\n",
      "s_idf= solver.IntVar(lower*d_idf, upper*d_idf, 'idf')\n",
      "s_waiting= solver.IntVar(lower*d_waiting, upper*d_waiting, 'waiting')\n",
      "s_alcove= solver.IntVar(lower*d_alcove, upper*d_alcove, 'alcove')\n",
      "s_stretcher_alcove= solver.IntVar(lower*d_stretcher_alcove, upper*d_stretcher_alcove, 'stretcher_alcove')\n",
      "s_corridor= solver.IntVar(lower*d_corridor, upper*d_corridor, 'corridor')\n",
      "s_mech_shaft= solver.IntVar(lower*d_mech_shaft, upper*d_mech_shaft, 'mech_shaft')\n",
      "s_elevator_car= solver.IntVar(lower*d_elevator_car, upper*d_elevator_car, 'elevator_car')\n"
     ]
    }
   ],
   "source": [
    "s_rooms = ['s_' + s + '= solver.IntVar(lower*d_' + s + ', upper*d_' + s + ', \\'' + s + '\\')' for s in rooms]\n",
    "print(*s_rooms, sep='\\n')"
   ]
  },
  {
   "cell_type": "code",
   "execution_count": 16,
   "metadata": {},
   "outputs": [
    {
     "name": "stdout",
     "output_type": "stream",
     "text": [
      "+ s_med_surg_w_pat_toilet*n_med_surg_w_pat_toilet\n",
      "+ s_med_surg_ada_w_pat_toilet*n_med_surg_ada_w_pat_toilet\n",
      "+ s_clean_supply*n_clean_supply\n",
      "+ s_soiled_holding*n_soiled_holding\n",
      "+ s_nourish*n_nourish\n",
      "+ s_meds*n_meds\n",
      "+ s_team_st*n_team_st\n",
      "+ s_public_toilet*n_public_toilet\n",
      "+ s_staff_toilet*n_staff_toilet\n",
      "+ s_conference_room*n_conference_room\n",
      "+ s_office*n_office\n",
      "+ s_phone_room*n_phone_room\n",
      "+ s_staff_lounge*n_staff_lounge\n",
      "+ s_staff_locker*n_staff_locker\n",
      "+ s_workroom*n_workroom\n",
      "+ s_electrical_room*n_electrical_room\n",
      "+ s_eq_storage*n_eq_storage\n",
      "+ s_evs*n_evs\n",
      "+ s_idf*n_idf\n",
      "+ s_waiting*n_waiting\n",
      "+ s_alcove*n_alcove\n",
      "+ s_stretcher_alcove*n_stretcher_alcove\n",
      "+ s_corridor*n_corridor\n",
      "+ s_mech_shaft*n_mech_shaft\n",
      "+ s_elevator_car*n_elevator_car\n"
     ]
    }
   ],
   "source": [
    "solvr = ['+ s_' + s + '*n_' + s for s in rooms]\n",
    "print(*solvr, sep='\\n')"
   ]
  },
  {
   "cell_type": "code",
   "execution_count": 17,
   "metadata": {},
   "outputs": [
    {
     "name": "stdout",
     "output_type": "stream",
     "text": [
      "+ abs(1-s_med_surg_w_pat_toilet.solution_value()/d_med_surg_w_pat_toilet)\n",
      "+ abs(1-s_med_surg_ada_w_pat_toilet.solution_value()/d_med_surg_ada_w_pat_toilet)\n",
      "+ abs(1-s_clean_supply.solution_value()/d_clean_supply)\n",
      "+ abs(1-s_soiled_holding.solution_value()/d_soiled_holding)\n",
      "+ abs(1-s_nourish.solution_value()/d_nourish)\n",
      "+ abs(1-s_meds.solution_value()/d_meds)\n",
      "+ abs(1-s_team_st.solution_value()/d_team_st)\n",
      "+ abs(1-s_public_toilet.solution_value()/d_public_toilet)\n",
      "+ abs(1-s_staff_toilet.solution_value()/d_staff_toilet)\n",
      "+ abs(1-s_conference_room.solution_value()/d_conference_room)\n",
      "+ abs(1-s_office.solution_value()/d_office)\n",
      "+ abs(1-s_phone_room.solution_value()/d_phone_room)\n",
      "+ abs(1-s_staff_lounge.solution_value()/d_staff_lounge)\n",
      "+ abs(1-s_staff_locker.solution_value()/d_staff_locker)\n",
      "+ abs(1-s_workroom.solution_value()/d_workroom)\n",
      "+ abs(1-s_electrical_room.solution_value()/d_electrical_room)\n",
      "+ abs(1-s_eq_storage.solution_value()/d_eq_storage)\n",
      "+ abs(1-s_evs.solution_value()/d_evs)\n",
      "+ abs(1-s_idf.solution_value()/d_idf)\n",
      "+ abs(1-s_waiting.solution_value()/d_waiting)\n",
      "+ abs(1-s_alcove.solution_value()/d_alcove)\n",
      "+ abs(1-s_stretcher_alcove.solution_value()/d_stretcher_alcove)\n",
      "+ abs(1-s_corridor.solution_value()/d_corridor)\n",
      "+ abs(1-s_mech_shaft.solution_value()/d_mech_shaft)\n",
      "+ abs(1-s_elevator_car.solution_value()/d_elevator_car)\n"
     ]
    }
   ],
   "source": [
    "ab = ['+ abs(1-s_' + a + '.solution_value()/d_' + a + ')' for a in rooms]\n",
    "print(*ab, sep='\\n')"
   ]
  },
  {
   "cell_type": "code",
   "execution_count": 20,
   "metadata": {},
   "outputs": [
    {
     "name": "stdout",
     "output_type": "stream",
     "text": [
      "print(f' - {n_med_surg_w_pat_toilet} med_surg_w_pat_toilet at {s_med_surg_w_pat_toilet.solution_value()/d_med_surg_w_pat_toilet} * default size, for {s_med_surg_w_pat_toilet.solution_value()} sqft each')\n",
      "print(f' - {n_med_surg_ada_w_pat_toilet} med_surg_ada_w_pat_toilet at {s_med_surg_ada_w_pat_toilet.solution_value()/d_med_surg_ada_w_pat_toilet} * default size, for {s_med_surg_ada_w_pat_toilet.solution_value()} sqft each')\n",
      "print(f' - {n_clean_supply} clean_supply at {s_clean_supply.solution_value()/d_clean_supply} * default size, for {s_clean_supply.solution_value()} sqft each')\n",
      "print(f' - {n_soiled_holding} soiled_holding at {s_soiled_holding.solution_value()/d_soiled_holding} * default size, for {s_soiled_holding.solution_value()} sqft each')\n",
      "print(f' - {n_nourish} nourish at {s_nourish.solution_value()/d_nourish} * default size, for {s_nourish.solution_value()} sqft each')\n",
      "print(f' - {n_meds} meds at {s_meds.solution_value()/d_meds} * default size, for {s_meds.solution_value()} sqft each')\n",
      "print(f' - {n_team_st} team_st at {s_team_st.solution_value()/d_team_st} * default size, for {s_team_st.solution_value()} sqft each')\n",
      "print(f' - {n_public_toilet} public_toilet at {s_public_toilet.solution_value()/d_public_toilet} * default size, for {s_public_toilet.solution_value()} sqft each')\n",
      "print(f' - {n_staff_toilet} staff_toilet at {s_staff_toilet.solution_value()/d_staff_toilet} * default size, for {s_staff_toilet.solution_value()} sqft each')\n",
      "print(f' - {n_conference_room} conference_room at {s_conference_room.solution_value()/d_conference_room} * default size, for {s_conference_room.solution_value()} sqft each')\n",
      "print(f' - {n_office} office at {s_office.solution_value()/d_office} * default size, for {s_office.solution_value()} sqft each')\n",
      "print(f' - {n_phone_room} phone_room at {s_phone_room.solution_value()/d_phone_room} * default size, for {s_phone_room.solution_value()} sqft each')\n",
      "print(f' - {n_staff_lounge} staff_lounge at {s_staff_lounge.solution_value()/d_staff_lounge} * default size, for {s_staff_lounge.solution_value()} sqft each')\n",
      "print(f' - {n_staff_locker} staff_locker at {s_staff_locker.solution_value()/d_staff_locker} * default size, for {s_staff_locker.solution_value()} sqft each')\n",
      "print(f' - {n_workroom} workroom at {s_workroom.solution_value()/d_workroom} * default size, for {s_workroom.solution_value()} sqft each')\n",
      "print(f' - {n_electrical_room} electrical_room at {s_electrical_room.solution_value()/d_electrical_room} * default size, for {s_electrical_room.solution_value()} sqft each')\n",
      "print(f' - {n_eq_storage} eq_storage at {s_eq_storage.solution_value()/d_eq_storage} * default size, for {s_eq_storage.solution_value()} sqft each')\n",
      "print(f' - {n_evs} evs at {s_evs.solution_value()/d_evs} * default size, for {s_evs.solution_value()} sqft each')\n",
      "print(f' - {n_idf} idf at {s_idf.solution_value()/d_idf} * default size, for {s_idf.solution_value()} sqft each')\n",
      "print(f' - {n_waiting} waiting at {s_waiting.solution_value()/d_waiting} * default size, for {s_waiting.solution_value()} sqft each')\n",
      "print(f' - {n_alcove} alcove at {s_alcove.solution_value()/d_alcove} * default size, for {s_alcove.solution_value()} sqft each')\n",
      "print(f' - {n_stretcher_alcove} stretcher_alcove at {s_stretcher_alcove.solution_value()/d_stretcher_alcove} * default size, for {s_stretcher_alcove.solution_value()} sqft each')\n",
      "print(f' - {n_corridor} corridor at {s_corridor.solution_value()/d_corridor} * default size, for {s_corridor.solution_value()} sqft each')\n",
      "print(f' - {n_mech_shaft} mech_shaft at {s_mech_shaft.solution_value()/d_mech_shaft} * default size, for {s_mech_shaft.solution_value()} sqft each')\n",
      "print(f' - {n_elevator_car} elevator_car at {s_elevator_car.solution_value()/d_elevator_car} * default size, for {s_elevator_car.solution_value()} sqft each')\n"
     ]
    }
   ],
   "source": [
    "p_rooms = ['print(f\\' - {n_' + p + '} '  + p + ' at {s_' + p + '.solution_value()/d_' + p + '} * default size, for {s_' + p + '.solution_value()} sqft each\\')' for p in rooms]\n",
    "# print(f' - {n_patient_room} patient_rooms at {s_patient_room.solution_value()/d_patient_room} * default size, for {s_patient_room.solution_value()} sqft each')\n",
    "print(*p_rooms, sep='\\n')"
   ]
  }
 ],
 "metadata": {
  "kernelspec": {
   "display_name": "CPM",
   "language": "python",
   "name": "python3"
  },
  "language_info": {
   "codemirror_mode": {
    "name": "ipython",
    "version": 3
   },
   "file_extension": ".py",
   "mimetype": "text/x-python",
   "name": "python",
   "nbconvert_exporter": "python",
   "pygments_lexer": "ipython3",
   "version": "3.11.3"
  },
  "orig_nbformat": 4
 },
 "nbformat": 4,
 "nbformat_minor": 2
}
