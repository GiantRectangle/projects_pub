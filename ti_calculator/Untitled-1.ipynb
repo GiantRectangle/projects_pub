{
 "cells": [
  {
   "cell_type": "code",
   "execution_count": 4,
   "metadata": {},
   "outputs": [
    {
     "name": "stdout",
     "output_type": "stream",
     "text": [
      "for a rectangle of area 303.64 where the aspect ratio is 1.63, it will be length 13.649, width 22.247, and the perimiter will be 72\n"
     ]
    }
   ],
   "source": [
    "import math\n",
    "aspect_ratio = 1.630\n",
    "area = 303.64\n",
    "width = math.sqrt(area * aspect_ratio)\n",
    "length = math.sqrt(area * 1/aspect_ratio)\n",
    "perimiter = 2 * (length + width)\n",
    "print(f'for a rectangle of area {area} where the aspect ratio is {aspect_ratio}, it will be length{length: .3f}, width{width: .3f}, and the perimiter will be{perimiter: .0f}')"
   ]
  },
  {
   "cell_type": "code",
   "execution_count": 76,
   "metadata": {},
   "outputs": [
    {
     "name": "stdout",
     "output_type": "stream",
     "text": [
      "0.366339978\n"
     ]
    }
   ],
   "source": [
    "#length\n",
    "print(f'{5/length:.9f}')"
   ]
  },
  {
   "cell_type": "code",
   "execution_count": 1,
   "metadata": {},
   "outputs": [
    {
     "name": "stdout",
     "output_type": "stream",
     "text": [
      "the area is 440\n",
      "the width is 20.000\n",
      "the length is 22.000\n",
      "the perimiter is 84\n"
     ]
    }
   ],
   "source": [
    "import assembly_math as am\n",
    "\n",
    "# print(am.aspect_ratio_calculator())\n",
    "\n",
    "area, width, length, perimiter = am.assembly_math(20/22,20*22)\n",
    "print(f'the area is {area}')\n",
    "print(f'the width is {width:.3f}')\n",
    "print(f'the length is {length:.3f}')\n",
    "print(f'the perimiter is {perimiter:.0f}')"
   ]
  },
  {
   "cell_type": "code",
   "execution_count": 9,
   "metadata": {},
   "outputs": [
    {
     "name": "stdout",
     "output_type": "stream",
     "text": [
      "2\n"
     ]
    }
   ],
   "source": [
    "months = (\n",
    "        \"January\",\n",
    "        \"February\",\n",
    "        \"March\",\n",
    "        \"April\",\n",
    "        \"May\",\n",
    "        \"June\",\n",
    "        \"July\",\n",
    "        \"August\",\n",
    "        \"September\",\n",
    "        \"October\",\n",
    "        \"November\",\n",
    "        \"December\"\n",
    "    )\n",
    "\n",
    "e_mos = list(enumerate(months))\n",
    "for i,j in e_mos:\n",
    "    if j == 'February':\n",
    "        print(i + 1)"
   ]
  },
  {
   "cell_type": "code",
   "execution_count": 74,
   "metadata": {},
   "outputs": [
    {
     "name": "stdout",
     "output_type": "stream",
     "text": [
      "0.988893193\n"
     ]
    }
   ],
   "source": [
    "#width\n",
    "print(f'{22/width:.9f}')"
   ]
  },
  {
   "cell_type": "code",
   "execution_count": 59,
   "metadata": {},
   "outputs": [
    {
     "name": "stdout",
     "output_type": "stream",
     "text": [
      "0.151495192\n"
     ]
    }
   ],
   "source": [
    "#area\n",
    "print(f'{46/area:.9f}')"
   ]
  },
  {
   "cell_type": "code",
   "execution_count": 44,
   "metadata": {},
   "outputs": [
    {
     "name": "stdout",
     "output_type": "stream",
     "text": [
      "0.961120095\n"
     ]
    }
   ],
   "source": [
    "#perimiter\n",
    "print(f'{69/perimiter:.9f}')"
   ]
  },
  {
   "cell_type": "code",
   "execution_count": 81,
   "metadata": {},
   "outputs": [
    {
     "name": "stdout",
     "output_type": "stream",
     "text": [
      "408.405405405\n"
     ]
    }
   ],
   "source": [
    "print(f'{15111/37:.9f}')"
   ]
  },
  {
   "cell_type": "code",
   "execution_count": 68,
   "metadata": {},
   "outputs": [
    {
     "name": "stdout",
     "output_type": "stream",
     "text": [
      "13.454545455\n"
     ]
    }
   ],
   "source": [
    "print(f'{74/5.5:.9f}')"
   ]
  },
  {
   "cell_type": "code",
   "execution_count": 80,
   "metadata": {},
   "outputs": [
    {
     "name": "stdout",
     "output_type": "stream",
     "text": [
      "32800.000\n"
     ]
    }
   ],
   "source": [
    "print(f'{40*820:.3f}')"
   ]
  }
 ],
 "metadata": {
  "kernelspec": {
   "display_name": "CPM",
   "language": "python",
   "name": "python3"
  },
  "language_info": {
   "codemirror_mode": {
    "name": "ipython",
    "version": 3
   },
   "file_extension": ".py",
   "mimetype": "text/x-python",
   "name": "python",
   "nbconvert_exporter": "python",
   "pygments_lexer": "ipython3",
   "version": "3.11.3"
  },
  "orig_nbformat": 4
 },
 "nbformat": 4,
 "nbformat_minor": 2
}
