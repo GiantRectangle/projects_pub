{
 "cells": [
  {
   "cell_type": "code",
   "execution_count": 5,
   "metadata": {},
   "outputs": [
    {
     "name": "stdout",
     "output_type": "stream",
     "text": [
      "the area is 400.0\n",
      "the width is 28.284\n",
      "the length is 14.142\n",
      "the perimiter is 85\n"
     ]
    }
   ],
   "source": [
    "import assembly_math as am\n",
    "\n",
    "aspect_ratio = am.aspect_ratio_calculator()\n",
    "area, width, length, perimiter = am.assembly_math(aspect_ratio)\n",
    "print(f'the area is {area}')\n",
    "print(f'the width is {width:.3f}')\n",
    "print(f'the length is {length:.3f}')\n",
    "print(f'the perimiter is {perimiter:.0f}')"
   ]
  }
 ],
 "metadata": {
  "kernelspec": {
   "display_name": "CPM",
   "language": "python",
   "name": "python3"
  },
  "language_info": {
   "codemirror_mode": {
    "name": "ipython",
    "version": 3
   },
   "file_extension": ".py",
   "mimetype": "text/x-python",
   "name": "python",
   "nbconvert_exporter": "python",
   "pygments_lexer": "ipython3",
   "version": "3.8.16"
  },
  "orig_nbformat": 4
 },
 "nbformat": 4,
 "nbformat_minor": 2
}
