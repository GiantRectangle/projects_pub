{
 "cells": [
  {
   "cell_type": "code",
   "execution_count": 2,
   "metadata": {},
   "outputs": [
    {
     "data": {
      "text/plain": [
       "True"
      ]
     },
     "execution_count": 2,
     "metadata": {},
     "output_type": "execute_result"
    }
   ],
   "source": [
    "# [11:48 AM] Adam Lorenz\n",
    "# In my mind, the model we are building would be used for (at least) the following purposes:\n",
    "\n",
    "# Floorplate & number of floors unknown, we can provide a budget using only # of beds desired. \n",
    "# # of floors known & approximate floorplate provided (e.g. good sam certificate of need docs), we can provide a budget. In this case, floorplate is not truly a constraint yet. We should know if the program appears to fit or not.\n",
    "# Floorplate is known (e.g. existing shelled space, S&C already permitted, etc.), # of floors are known - we can provide a budget. Floorplate is a constraint, we can take it into consideration. Patient room sizes may be variable.\n",
    "# Similar to #3, but patient rooms are either drawn, or a hospital standard is provided that removes variability of patient room size.\n",
    "# We receive Schematic design drawings. All rooms & corridors are drawn to scale, no finishes or elevations provided. We customize the room sizes, our estimate fills in the gaps of information.\n",
    "# We receive DD drawings. Some finishes/elevations are provided. Our estimate serves to identify missing design info, functions as a check on materials/quantities.\n",
    "# From Schematic design through GMP, our model serves as the target value delivery path to budget. We can stand behind our budget, we have provided a detailed estimate of what is included in that number. Any/All variances in observations are put forth as decision points to get project back on budget.\n",
    "\n",
    "\n",
    "# 1. we have a number of beds\n",
    "beds = 40\n",
    "\n",
    "# 2. we have a bunch of other rooms (a, b, c...n), and for each of these there is a ratio to beds\n",
    "r_a, r_b, r_c = 0.05556, .03334, 0.8882\n",
    "\n",
    "# 3. such that the count of each room type is the ratio times beds\n",
    "c_a, c_b, c_c = r_a*beds, r_b*beds, r_c*beds\n",
    "\n",
    "# 4. the counts of each room must be in whole numbers\n",
    "room_counts = [c_a, c_b, c_c]\n",
    "room_counts = [round(r) for r in room_counts]\n",
    "\n",
    "# 5. each room has a default size\n",
    "d_a, d_b, d_c = 53, 120, 191\n",
    "\n",
    "# 6. the total floorplate size is also a ratio to beds\n",
    "floorplate = beds*820\n",
    "\n",
    "# 7. each room may get bigger or smaller, but not by too much\n",
    "room_sizes = [d_a, d_b, d_c]\n",
    "adjusted_room_sizes = [0.8*r < r < 1.2*r for r in room_sizes]\n",
    "\n",
    "# 8. certain rooms may have additional constraints on their sizes\n",
    "45< room_sizes[0] < 58\n",
    "\n",
    "# 9. the difference of the sum of all the room sizes and the floorplate size must be positive, and is the target for the CPM minimize function\n",
    "total_room_sizes = c_a*d_a + c_b*d_b + c_c*d_c\n",
    "remainder = floorplate - total_room_sizes\n",
    "remainder > 0"
   ]
  }
 ],
 "metadata": {
  "kernelspec": {
   "display_name": "snowflake",
   "language": "python",
   "name": "python3"
  },
  "language_info": {
   "codemirror_mode": {
    "name": "ipython",
    "version": 3
   },
   "file_extension": ".py",
   "mimetype": "text/x-python",
   "name": "python",
   "nbconvert_exporter": "python",
   "pygments_lexer": "ipython3",
   "version": "3.11.3"
  },
  "orig_nbformat": 4
 },
 "nbformat": 4,
 "nbformat_minor": 2
}
